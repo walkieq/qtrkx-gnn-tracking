{
 "cells": [
  {
   "cell_type": "code",
   "execution_count": 21,
   "id": "b2f921c6",
   "metadata": {},
   "outputs": [],
   "source": [
    "import sys\n",
    "import os\n",
    "# Turn off warnings and errors due to TF libraries\n",
    "os.environ['TF_CPP_MIN_LOG_LEVEL'] = '3'  \n",
    "import time\n",
    "import datetime\n",
    "import csv\n",
    "from random import shuffle\n",
    "import tensorflow as tf\n",
    "# import internal scripts\n",
    "from tools.tools import *\n",
    "from test import test"
   ]
  },
  {
   "cell_type": "code",
   "execution_count": 22,
   "id": "d188f2c2",
   "metadata": {},
   "outputs": [],
   "source": [
    "config = {\n",
    "\"train_dir\"   : 'data/train',\n",
    "\"valid_dir\"   : 'data/valid',\n",
    "\"dataset\" : 'mu200_1pT',\n",
    "\"log_dir\" : 'logs/test_CGNN/',\n",
    "\"run_type\" : 'new_run',\n",
    "\"gpu\" : '-1',\n",
    "\"n_files\" : 100,\n",
    "\"n_valid\" : 50,\n",
    "\"n_train\" : 50,\n",
    "\"lr_c\" : 0.01,\n",
    "\"batch_size\" : 1,\n",
    "\"n_iters\" : 3,\n",
    "\"n_epoch\" : 5,\n",
    "\"TEST_every\" : 50,\n",
    "\"hid_dim\" : 4,\n",
    "\"network\" : 'CGNN',\n",
    "\"optimizer\"  : 'Adam',\n",
    "\"loss_func\"  : 'BinaryCrossentropy',\n",
    "\"n_thread\"  : 4,\n",
    "\"log_verbosity\": 2,\n",
    "}\n",
    "tools.config = config"
   ]
  },
  {
   "cell_type": "code",
   "execution_count": 23,
   "id": "91bfce03",
   "metadata": {},
   "outputs": [],
   "source": [
    "os.environ[\"CUDA_VISIBLE_DEVICES\"] = config['gpu']\n",
    "USE_GPU = (config['gpu']  != '-1')"
   ]
  },
  {
   "cell_type": "code",
   "execution_count": 24,
   "id": "e2932a39",
   "metadata": {},
   "outputs": [],
   "source": [
    "    os.environ['OMP_NUM_THREADS'] = str(config['n_thread'])  # set num workers\n",
    "    tf.config.threading.set_intra_op_parallelism_threads(config['n_thread'])\n",
    "    tf.config.threading.set_inter_op_parallelism_threads(config['n_thread'])"
   ]
  },
  {
   "cell_type": "code",
   "execution_count": 25,
   "id": "10831044",
   "metadata": {},
   "outputs": [],
   "source": [
    "    # Load the network\n",
    "    if config['network'] == 'QGNN':\n",
    "        from qnetworks.QGNN import GNN\n",
    "        GNN.config = config\n",
    "    elif config['network'] == 'CGNN':\n",
    "        from qnetworks.CGNN import GNN\n",
    "        GNN.config = config\n",
    "    else: \n",
    "        print('Wrong network specification!')\n",
    "        sys.exit()"
   ]
  },
  {
   "cell_type": "code",
   "execution_count": 26,
   "id": "7541611d",
   "metadata": {},
   "outputs": [],
   "source": [
    "    # setup model\n",
    "    model = GNN()\n",
    "\n",
    "    # load data\n",
    "    train_data = get_dataset(config['train_dir'], config['n_train'])\n",
    "    train_list = [i for i in range(config['n_train'])]"
   ]
  },
  {
   "cell_type": "code",
   "execution_count": 27,
   "id": "4ebbcbd0",
   "metadata": {},
   "outputs": [
    {
     "data": {
      "text/plain": [
       "<tf.Tensor: shape=(8353, 1), dtype=float32, numpy=\n",
       "array([[0.55199516],\n",
       "       [0.551275  ],\n",
       "       [0.5588722 ],\n",
       "       ...,\n",
       "       [0.47679737],\n",
       "       [0.5069042 ],\n",
       "       [0.4788517 ]], dtype=float32)>"
      ]
     },
     "execution_count": 27,
     "metadata": {},
     "output_type": "execute_result"
    }
   ],
   "source": [
    "    # execute the model on an example data to test things\n",
    "    X, Ri, Ro, y = train_data[0]\n",
    "    model([map2angle(X), Ri, Ro])\n"
   ]
  },
  {
   "cell_type": "code",
   "execution_count": 28,
   "id": "6cd5c33b",
   "metadata": {},
   "outputs": [
    {
     "name": "stdout",
     "output_type": "stream",
     "text": [
      "Model: \"GNN\"\n",
      "_________________________________________________________________\n",
      "Layer (type)                 Output Shape              Param #   \n",
      "=================================================================\n",
      "InputNet (Sequential)        (None, 4)                 16        \n",
      "_________________________________________________________________\n",
      "EdgeNet (EdgeNet)            multiple                  65        \n",
      "_________________________________________________________________\n",
      "NodeNet (NodeNet)            multiple                  108       \n",
      "=================================================================\n",
      "Total params: 189\n",
      "Trainable params: 189\n",
      "Non-trainable params: 0\n",
      "_________________________________________________________________\n",
      "None\n"
     ]
    }
   ],
   "source": [
    "    print(model.summary())"
   ]
  },
  {
   "cell_type": "code",
   "execution_count": 36,
   "id": "085a062d",
   "metadata": {},
   "outputs": [],
   "source": [
    "def check_type(name, x):\n",
    "    print(x)\n",
    "    print(\"name:\", name)\n",
    "    print(\"type:\", type(x))\n",
    "    print(len(x))\n",
    "    print(np.array(x).shape)\n",
    "    print(np.array(x).dtype)\n",
    "    #if (np.ndim(np.array(x)) == 2):\n",
    "    if isinstance(x, np.ndarray): \n",
    "        print(\"MIN\", np.array(x).min())\n",
    "        print(\"MAX\", np.array(x).max())\n",
    "    #else:\n",
    "    #    print(\"ndim:\", np.ndim(np.array(x)))\n"
   ]
  },
  {
   "cell_type": "code",
   "execution_count": 35,
   "id": "33320c1e",
   "metadata": {},
   "outputs": [
    {
     "name": "stdout",
     "output_type": "stream",
     "text": [
      "[[ 0.03201562  0.2093877  -0.205722  ]\n",
      " [ 0.072587    0.20926541 -0.48162702]\n",
      " [ 0.07247818  0.6999745  -0.104102  ]\n",
      " ...\n",
      " [ 0.5030189   0.01880868  0.61259997]\n",
      " [ 0.6623555   0.03205843  0.8066    ]\n",
      " [ 0.82296497  0.0452814   1.003     ]]\n",
      "name: X\n",
      "<class 'numpy.ndarray'>\n",
      "5923\n",
      "(5923, 3)\n",
      "float32\n",
      "MIN -1.081\n",
      "MAX 1.0785999\n"
     ]
    }
   ],
   "source": [
    "X, Ri, Ro, y = train_data[1]\n",
    "check_type(\"X\", X)"
   ]
  },
  {
   "cell_type": "code",
   "execution_count": 39,
   "id": "375207a4",
   "metadata": {},
   "outputs": [
    {
     "name": "stdout",
     "output_type": "stream",
     "text": [
      "[[0. 0. 0. ... 0. 0. 0.]\n",
      " [1. 0. 0. ... 0. 0. 0.]\n",
      " [0. 0. 0. ... 0. 0. 0.]\n",
      " ...\n",
      " [0. 0. 0. ... 0. 0. 0.]\n",
      " [0. 0. 0. ... 0. 0. 0.]\n",
      " [0. 0. 0. ... 0. 0. 0.]]\n",
      "name: Ri\n",
      "type: <class 'numpy.ndarray'>\n",
      "5923\n",
      "(5923, 9269)\n",
      "float32\n",
      "MIN 0.0\n",
      "MAX 1.0\n"
     ]
    }
   ],
   "source": [
    "check_type(\"Ri\", Ri)"
   ]
  },
  {
   "cell_type": "code",
   "execution_count": 40,
   "id": "7143bc8b",
   "metadata": {},
   "outputs": [
    {
     "name": "stdout",
     "output_type": "stream",
     "text": [
      "[[1. 0. 0. ... 0. 0. 0.]\n",
      " [0. 0. 0. ... 0. 0. 0.]\n",
      " [0. 0. 0. ... 0. 0. 0.]\n",
      " ...\n",
      " [0. 0. 0. ... 0. 0. 0.]\n",
      " [0. 0. 0. ... 0. 0. 0.]\n",
      " [0. 0. 0. ... 0. 0. 0.]]\n",
      "name: Ro\n",
      "type: <class 'numpy.ndarray'>\n",
      "5923\n",
      "(5923, 9269)\n",
      "float32\n",
      "MIN 0.0\n",
      "MAX 1.0\n"
     ]
    }
   ],
   "source": [
    "check_type(\"Ro\", Ro)"
   ]
  },
  {
   "cell_type": "code",
   "execution_count": 42,
   "id": "98c30afd",
   "metadata": {},
   "outputs": [
    {
     "name": "stdout",
     "output_type": "stream",
     "text": [
      "[1. 1. 0. ... 1. 1. 1.]\n",
      "name: y\n",
      "type: <class 'numpy.ndarray'>\n",
      "9269\n",
      "(9269,)\n",
      "float32\n",
      "MIN 0.0\n",
      "MAX 1.0\n"
     ]
    }
   ],
   "source": [
    "check_type(\"y\", y)"
   ]
  },
  {
   "cell_type": "code",
   "execution_count": 45,
   "id": "416e63fb",
   "metadata": {},
   "outputs": [
    {
     "name": "stdout",
     "output_type": "stream",
     "text": [
      "[[0.02910511 0.60469383 0.40649003]\n",
      " [0.06598818 0.60463274 0.28107864]\n",
      " [0.06588925 0.84998727 0.45268092]\n",
      " ...\n",
      " [0.4572899  0.50940436 0.77845454]\n",
      " [0.6021413  0.51602924 0.86663634]\n",
      " [0.74814993 0.5226407  0.95590913]]\n",
      "name: X_angle\n",
      "type: <class 'numpy.ndarray'>\n",
      "5923\n",
      "(5923, 3)\n",
      "float32\n",
      "MIN 5.620718e-05\n",
      "MAX 0.9999594\n"
     ]
    }
   ],
   "source": [
    "X_angle = map2angle(X)\n",
    "check_type(\"X_angle\", X_angle)"
   ]
  },
  {
   "cell_type": "code",
   "execution_count": null,
   "id": "af867489",
   "metadata": {},
   "outputs": [],
   "source": []
  }
 ],
 "metadata": {
  "kernelspec": {
   "display_name": "Python 3 (ipykernel)",
   "language": "python",
   "name": "python3"
  },
  "language_info": {
   "codemirror_mode": {
    "name": "ipython",
    "version": 3
   },
   "file_extension": ".py",
   "mimetype": "text/x-python",
   "name": "python",
   "nbconvert_exporter": "python",
   "pygments_lexer": "ipython3",
   "version": "3.8.5"
  }
 },
 "nbformat": 4,
 "nbformat_minor": 5
}
